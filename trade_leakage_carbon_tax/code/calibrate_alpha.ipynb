{
 "cells": [
  {
   "cell_type": "code",
   "execution_count": 1,
   "id": "f9b45ca1-ad18-413d-a98e-147f01719a45",
   "metadata": {},
   "outputs": [],
   "source": [
    "# this file is a simple calculator that finds the appropriate alpha\n",
    "# for any given rho such that the share of energy is 0.15\n",
    "from sympy import *\n",
    "x,a = symbols('x a')"
   ]
  },
  {
   "cell_type": "code",
   "execution_count": 2,
   "id": "639f3f56-79b8-4873-ba4d-fee9731cdb53",
   "metadata": {},
   "outputs": [],
   "source": [
    "rho = 0.5\n",
    "## define CES production function and its derivative\n",
    "def g(p, rho = rho, alpha = 0.15):\n",
    "    if rho == 0:\n",
    "        return alpha**(-alpha) * (1-alpha)**(-(1-alpha)) * p**alpha\n",
    "    else:\n",
    "        t1 = (1-alpha)**(1/(1-rho))\n",
    "        t2 = alpha**(1/(1-rho)) * p**(-rho/(1-rho))\n",
    "        return (t1 + t2)**(-(1-rho)/rho)\n",
    "\n",
    "def gprime(p, rho, alpha):\n",
    "    if rho == 0:\n",
    "        return (alpha/(1-alpha))**(1-alpha) * p**(-(1-alpha))\n",
    "    else:\n",
    "        t1 = (1-alpha)**(1/(1-rho))\n",
    "        t2 = alpha**(1/(1-rho)) * p**(-rho/(1-rho))\n",
    "        coef = alpha **(1/(1-rho)) * p**(-rho/(1-rho) - 1)\n",
    "        return (t1 + t2)**(-(1-rho)/rho - 1) * coef"
   ]
  },
  {
   "cell_type": "code",
   "execution_count": 3,
   "id": "58ccf33e-68d4-4676-8b89-ccc1ff91a556",
   "metadata": {},
   "outputs": [
    {
     "data": {
      "text/plain": [
       "[-0.724387744895918, 0.295816316324489]"
      ]
     },
     "execution_count": 3,
     "metadata": {},
     "output_type": "execute_result"
    }
   ],
   "source": [
    "# select the positive root as new value for alpha\n",
    "solve(gprime(1,rho, a) / g(1,rho, a) - 0.15 , a)"
   ]
  },
  {
   "cell_type": "code",
   "execution_count": null,
   "id": "2d95307e-5235-4117-b9dd-7828fb6b9476",
   "metadata": {},
   "outputs": [],
   "source": []
  }
 ],
 "metadata": {
  "kernelspec": {
   "display_name": "Python 3 (ipykernel)",
   "language": "python",
   "name": "python3"
  },
  "language_info": {
   "codemirror_mode": {
    "name": "ipython",
    "version": 3
   },
   "file_extension": ".py",
   "mimetype": "text/x-python",
   "name": "python",
   "nbconvert_exporter": "python",
   "pygments_lexer": "ipython3",
   "version": "3.9.9"
  }
 },
 "nbformat": 4,
 "nbformat_minor": 5
}
